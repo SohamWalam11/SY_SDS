{
 "cells": [
  {
   "cell_type": "markdown",
   "metadata": {},
   "source": [
    "Q1"
   ]
  },
  {
   "cell_type": "code",
   "execution_count": 7,
   "metadata": {},
   "outputs": [
    {
     "name": "stdout",
     "output_type": "stream",
     "text": [
      "i)  P(Z < 1.5)           = 0.9331927987311419\n",
      "ii) P(Z > 0.5)           = 0.3085375387259869\n",
      "iii)P(|Z| < 1.5)         = 0.8663855974622838\n",
      "iv) P(|Z| > 0.5)         = 0.6170750774519738\n",
      "v)  P(-2.2 < Z < 1)      = 0.8274412985550443\n"
     ]
    }
   ],
   "source": [
    "import math\n",
    "from scipy.stats import norm\n",
    "\n",
    "# (i) P(Z < 1.5)\n",
    "p1 = norm.cdf(1.5)\n",
    "\n",
    "# (ii) P(Z > 0.5) = 1 - P(Z <= 0.5)\n",
    "p2 = 1 - norm.cdf(0.5)\n",
    "\n",
    "# (iii) P(|Z| < 1.5) = P(Z < 1.5) - P(Z < -1.5)\n",
    "p3 = norm.cdf(1.5) - norm.cdf(-1.5)\n",
    "\n",
    "# (iv) P(|Z| > 0.5) = 1 - P(|Z| <= 0.5)\n",
    "#     = 1 - [P(Z < 0.5) - P(Z < -0.5)]\n",
    "p4 = 1 - (norm.cdf(0.5) - norm.cdf(-0.5))\n",
    "\n",
    "# (v) P(-2.2 < Z < 1) = P(Z < 1) - P(Z < -2.2)\n",
    "p5 = norm.cdf(1) - norm.cdf(-2.2)\n",
    "\n",
    "# Print the results\n",
    "print(\"i)  P(Z < 1.5)           =\", p1)\n",
    "print(\"ii) P(Z > 0.5)           =\", p2)\n",
    "print(\"iii)P(|Z| < 1.5)         =\", p3)\n",
    "print(\"iv) P(|Z| > 0.5)         =\", p4)\n",
    "print(\"v)  P(-2.2 < Z < 1)      =\", p5)\n"
   ]
  },
  {
   "cell_type": "markdown",
   "metadata": {},
   "source": [
    "Q2"
   ]
  },
  {
   "cell_type": "code",
   "execution_count": 9,
   "metadata": {},
   "outputs": [
    {
     "name": "stdout",
     "output_type": "stream",
     "text": [
      "(i)  Z0 for P(Z < Z0) = 0.90 is  1.2816\n",
      "(ii) Z0 for P(Z < Z0) = 0.95 is  1.6449\n",
      "(iii)Z0 for P(Z < Z0) = 0.99 is  2.3263\n",
      "(iv)  Z0 for P(|Z| < Z0) = 0.90 is 1.6449\n",
      "(v)   Z0 for P(|Z| < Z0) = 0.95 is 1.9600\n",
      "(vi)  Z0 for P(|Z| < Z0) = 0.99 is 2.5758\n"
     ]
    }
   ],
   "source": [
    "import math\n",
    "from scipy.stats import norm\n",
    "\n",
    "# (i) P(Z < Z0) = 0.90\n",
    "z0_i = norm.ppf(0.90)\n",
    "\n",
    "# (ii) P(Z < Z0) = 0.95\n",
    "z0_ii = norm.ppf(0.95)\n",
    "\n",
    "# (iii) P(Z < Z0) = 0.99\n",
    "z0_iii = norm.ppf(0.99)\n",
    "\n",
    "# For the two-sided probabilities, we use P(|Z| < Z0) = α\n",
    "# => 2 * CDF(Z0) - 1 = α => CDF(Z0) = (α + 1)/2 => Z0 = ppf((α + 1)/2)\n",
    "\n",
    "# (iv) P(|Z| < Z0) = 0.90\n",
    "z0_iv = norm.ppf((0.90 + 1)/2)\n",
    "\n",
    "# (v) P(|Z| < Z0) = 0.95\n",
    "z0_v = norm.ppf((0.95 + 1)/2)\n",
    "\n",
    "# (vi) P(|Z| < Z0) = 0.99\n",
    "z0_vi = norm.ppf((0.99 + 1)/2)\n",
    "\n",
    "print(f\"(i)  Z0 for P(Z < Z0) = 0.90 is  {z0_i:.4f}\")\n",
    "print(f\"(ii) Z0 for P(Z < Z0) = 0.95 is  {z0_ii:.4f}\")\n",
    "print(f\"(iii)Z0 for P(Z < Z0) = 0.99 is  {z0_iii:.4f}\")\n",
    "\n",
    "print(f\"(iv)  Z0 for P(|Z| < Z0) = 0.90 is {z0_iv:.4f}\")\n",
    "print(f\"(v)   Z0 for P(|Z| < Z0) = 0.95 is {z0_v:.4f}\")\n",
    "print(f\"(vi)  Z0 for P(|Z| < Z0) = 0.99 is {z0_vi:.4f}\")\n"
   ]
  },
  {
   "cell_type": "markdown",
   "metadata": {},
   "source": [
    "Q3"
   ]
  },
  {
   "cell_type": "code",
   "execution_count": 10,
   "metadata": {},
   "outputs": [
    {
     "name": "stdout",
     "output_type": "stream",
     "text": [
      "(i) P(t < 1.5) with d.f.=20: 0.9254\n",
      "(ii) P(t > 0.5) with d.f.=15: 0.3122\n",
      "(iii) P(|t| < 1.5) with d.f.=25: 0.8539\n",
      "(iv) P(|t| > 0.5) with d.f.=35: 0.6202\n",
      "(v) P(-2.2 < t < 1) with d.f.=42: 0.8218\n"
     ]
    }
   ],
   "source": [
    "from scipy.stats import t\n",
    "\n",
    "# (i)\n",
    "prob1 = t.cdf(1.5, df=20)\n",
    "\n",
    "# (ii)\n",
    "prob2 = 1 - t.cdf(0.5, df=15)\n",
    "\n",
    "# (iii)\n",
    "prob3 = 2 * t.cdf(1.5, df=25) - 1\n",
    "\n",
    "# (iv)\n",
    "prob4 = 2 * (1 - t.cdf(0.5, df=35))\n",
    "\n",
    "# (v)\n",
    "prob5 = t.cdf(1, df=42) - t.cdf(-2.2, df=42)\n",
    "\n",
    "# Print results\n",
    "print(f\"(i) P(t < 1.5) with d.f.=20: {prob1:.4f}\")\n",
    "print(f\"(ii) P(t > 0.5) with d.f.=15: {prob2:.4f}\")\n",
    "print(f\"(iii) P(|t| < 1.5) with d.f.=25: {prob3:.4f}\")\n",
    "print(f\"(iv) P(|t| > 0.5) with d.f.=35: {prob4:.4f}\")\n",
    "print(f\"(v) P(-2.2 < t < 1) with d.f.=42: {prob5:.4f}\")\n"
   ]
  },
  {
   "cell_type": "markdown",
   "metadata": {},
   "source": [
    "Q4"
   ]
  },
  {
   "cell_type": "code",
   "execution_count": 11,
   "metadata": {},
   "outputs": [
    {
     "name": "stdout",
     "output_type": "stream",
     "text": [
      "(i) t0 = 1.3253\n",
      "(ii) t0 = 1.7531\n",
      "(iii) t0 = 2.4851\n",
      "(iv) t0 = 1.6973\n",
      "(v) t0 = 2.0181\n",
      "(vi) t0 = 3.1693\n"
     ]
    }
   ],
   "source": [
    "from scipy.stats import t\n",
    "\n",
    "# (i) P(t < t0) = 0.90, d.o.f = 20\n",
    "t0_i = t.ppf(0.90, df=20)\n",
    "\n",
    "# (ii) P(t < t0) = 0.95, d.o.f = 15\n",
    "t0_ii = t.ppf(0.95, df=15)\n",
    "\n",
    "# (iii) P(t < t0) = 0.99, d.o.f = 25\n",
    "t0_iii = t.ppf(0.99, df=25)\n",
    "\n",
    "# (iv) P(|t| < t0) = 0.90, d.o.f = 30 --> two-tailed\n",
    "t0_iv = t.ppf((1 + 0.90) / 2, df=30)\n",
    "\n",
    "# (v) P(|t| < t0) = 0.95, d.o.f = 42\n",
    "t0_v = t.ppf((1 + 0.95) / 2, df=42)\n",
    "\n",
    "# (vi) P(|t| < t0) = 0.99, d.o.f = 10\n",
    "t0_vi = t.ppf((1 + 0.99) / 2, df=10)\n",
    "\n",
    "# Print results\n",
    "print(f\"(i) t0 = {t0_i:.4f}\")\n",
    "print(f\"(ii) t0 = {t0_ii:.4f}\")\n",
    "print(f\"(iii) t0 = {t0_iii:.4f}\")\n",
    "print(f\"(iv) t0 = {t0_iv:.4f}\")\n",
    "print(f\"(v) t0 = {t0_v:.4f}\")\n",
    "print(f\"(vi) t0 = {t0_vi:.4f}\")\n"
   ]
  },
  {
   "cell_type": "markdown",
   "metadata": {},
   "source": [
    "Q5"
   ]
  },
  {
   "cell_type": "code",
   "execution_count": 12,
   "metadata": {},
   "outputs": [
    {
     "name": "stdout",
     "output_type": "stream",
     "text": [
      "(i) P(F < 1.5) = 0.7481\n",
      "(ii) P(F > 2.5) = 0.0473\n",
      "(iii) P(0.5 < F < 4.1) = 0.8911\n"
     ]
    }
   ],
   "source": [
    "import scipy.stats as stats\n",
    "\n",
    "# (i) P(F < 1.5) with df1=5, df2=14\n",
    "p1 = stats.f.cdf(1.5, dfn=5, dfd=14)\n",
    "\n",
    "# (ii) P(F > 2.5) with df1=15, df2=14\n",
    "# First get CDF, then complement\n",
    "p2 = 1 - stats.f.cdf(2.5, dfn=15, dfd=14)\n",
    "\n",
    "# (iii) P(0.5 < F < 4.1) with df1=13, df2=17\n",
    "# Calculate CDF at both points and subtract\n",
    "cdf_lower = stats.f.cdf(0.5, dfn=13, dfd=17)\n",
    "cdf_upper = stats.f.cdf(4.1, dfn=13, dfd=17)\n",
    "p3 = cdf_upper - cdf_lower\n",
    "\n",
    "print(f\"(i) P(F < 1.5) = {p1:.4f}\")\n",
    "print(f\"(ii) P(F > 2.5) = {p2:.4f}\")\n",
    "print(f\"(iii) P(0.5 < F < 4.1) = {p3:.4f}\")\n"
   ]
  },
  {
   "cell_type": "markdown",
   "metadata": {},
   "source": [
    "Q6"
   ]
  },
  {
   "cell_type": "code",
   "execution_count": 13,
   "metadata": {},
   "outputs": [
    {
     "name": "stdout",
     "output_type": "stream",
     "text": [
      "F0 for (i): 2.3069430514007236\n",
      "F0 for (ii): 2.533109983130745\n",
      "F0 for (iii): 2.5060172667359417\n"
     ]
    }
   ],
   "source": [
    "import scipy.stats as stats\n",
    "\n",
    "# (i) df1 = 5, df2 = 14, probability = 0.90\n",
    "F0_1 = stats.f.ppf(0.90, dfn=5, dfd=14)\n",
    "\n",
    "# (ii) df1 = 15, df2 = 13, probability = 0.95\n",
    "F0_2 = stats.f.ppf(0.95, dfn=15, dfd=13)\n",
    "\n",
    "# (iii) df1 = 25, df2 = 28, probability = 0.99\n",
    "F0_3 = stats.f.ppf(0.99, dfn=25, dfd=28)\n",
    "\n",
    "print(\"F0 for (i):\", F0_1)\n",
    "print(\"F0 for (ii):\", F0_2)\n",
    "print(\"F0 for (iii):\", F0_3)\n"
   ]
  },
  {
   "cell_type": "markdown",
   "metadata": {},
   "source": [
    "Q7"
   ]
  },
  {
   "cell_type": "code",
   "execution_count": 14,
   "metadata": {},
   "outputs": [
    {
     "name": "stdout",
     "output_type": "stream",
     "text": [
      "P(X < 1.5), df=10: 0.0010646777727857928\n",
      "P(X > 2.5), df=5: 0.7764950711233227\n",
      "P(0.5 < X < 4.1), df=2: 0.6500658794836006\n"
     ]
    }
   ],
   "source": [
    "import scipy.stats as stats\n",
    "\n",
    "# (i) P(X < 1.5) with df = 10\n",
    "prob1 = stats.chi2.cdf(1.5, df=10)\n",
    "\n",
    "# (ii) P(X > 2.5) with df = 5\n",
    "prob2 = 1 - stats.chi2.cdf(2.5, df=5)\n",
    "\n",
    "# (iii) P(0.5 < X < 4.1) with df = 2\n",
    "cdf_upper = stats.chi2.cdf(4.1, df=2)\n",
    "cdf_lower = stats.chi2.cdf(0.5, df=2)\n",
    "prob3 = cdf_upper - cdf_lower\n",
    "\n",
    "print(\"P(X < 1.5), df=10:\", prob1)\n",
    "print(\"P(X > 2.5), df=5:\", prob2)\n",
    "print(\"P(0.5 < X < 4.1), df=2:\", prob3)\n"
   ]
  },
  {
   "cell_type": "markdown",
   "metadata": {},
   "source": [
    "Q8"
   ]
  },
  {
   "cell_type": "code",
   "execution_count": null,
   "metadata": {},
   "outputs": [],
   "source": []
  },
  {
   "cell_type": "markdown",
   "metadata": {},
   "source": [
    "Q9"
   ]
  },
  {
   "cell_type": "code",
   "execution_count": 1,
   "metadata": {},
   "outputs": [
    {
     "name": "stdout",
     "output_type": "stream",
     "text": [
      "95% Confidence Interval for the population mean: (100.85981766472894, 102.78018233527105)\n"
     ]
    }
   ],
   "source": [
    "import math\n",
    "from scipy.stats import norm\n",
    "\n",
    "# Given values\n",
    "sample_mean = 101.82\n",
    "population_std_dev = 1.2\n",
    "sample_size = 6\n",
    "confidence_level = 0.95\n",
    "\n",
    "# Z-critical value for 95% confidence\n",
    "z_critical = norm.ppf( (1 + confidence_level) / 2 )\n",
    "\n",
    "# Standard error\n",
    "standard_error = population_std_dev / math.sqrt(sample_size)\n",
    "\n",
    "# Margin of error\n",
    "margin_of_error = z_critical * standard_error\n",
    "\n",
    "# Confidence interval\n",
    "confidence_interval = (sample_mean - margin_of_error, sample_mean + margin_of_error)\n",
    "\n",
    "print(f\"95% Confidence Interval for the population mean: {confidence_interval}\")\n"
   ]
  },
  {
   "cell_type": "markdown",
   "metadata": {},
   "source": [
    "Q10"
   ]
  },
  {
   "cell_type": "code",
   "execution_count": 2,
   "metadata": {},
   "outputs": [
    {
     "name": "stdout",
     "output_type": "stream",
     "text": [
      "98% Confidence Interval for the population mean: (54.786616790335714, 87.21338320966429)\n"
     ]
    }
   ],
   "source": [
    "import numpy as np\n",
    "from scipy.stats import t\n",
    "\n",
    "# Sample data\n",
    "data = [45, 55, 67, 45, 68, 79, 98, 87, 84, 82]\n",
    "\n",
    "# Sample statistics\n",
    "sample_mean = np.mean(data)\n",
    "sample_std = np.std(data, ddof=1)  # ddof=1 for sample standard deviation\n",
    "sample_size = len(data)\n",
    "\n",
    "# Confidence level\n",
    "confidence_level = 0.98\n",
    "alpha = 1 - confidence_level\n",
    "\n",
    "# t-critical value\n",
    "t_critical = t.ppf(1 - alpha/2, df=sample_size - 1)\n",
    "\n",
    "# Standard error\n",
    "standard_error = sample_std / np.sqrt(sample_size)\n",
    "\n",
    "# Margin of error\n",
    "margin_of_error = t_critical * standard_error\n",
    "\n",
    "# Confidence interval\n",
    "confidence_interval = (sample_mean - margin_of_error, sample_mean + margin_of_error)\n",
    "\n",
    "print(f\"98% Confidence Interval for the population mean: {confidence_interval}\")\n"
   ]
  },
  {
   "cell_type": "markdown",
   "metadata": {},
   "source": [
    "Q11"
   ]
  },
  {
   "cell_type": "code",
   "execution_count": 3,
   "metadata": {},
   "outputs": [
    {
     "name": "stdout",
     "output_type": "stream",
     "text": [
      "90% Confidence Interval for the true proportion: (0.0888, 0.1347)\n"
     ]
    }
   ],
   "source": [
    "import math\n",
    "from scipy.stats import norm\n",
    "\n",
    "# Given data\n",
    "x = 57          # number of men\n",
    "n = 510         # total applicants\n",
    "confidence = 0.90\n",
    "\n",
    "# Sample proportion\n",
    "p_hat = x / n\n",
    "\n",
    "# z-critical value for 90% confidence\n",
    "z_critical = norm.ppf(1 - (1 - confidence) / 2)\n",
    "\n",
    "# Standard error\n",
    "se = math.sqrt((p_hat * (1 - p_hat)) / n)\n",
    "\n",
    "# Margin of error\n",
    "margin_of_error = z_critical * se\n",
    "\n",
    "# Confidence interval\n",
    "ci_lower = p_hat - margin_of_error\n",
    "ci_upper = p_hat + margin_of_error\n",
    "\n",
    "print(f\"90% Confidence Interval for the true proportion: ({ci_lower:.4f}, {ci_upper:.4f})\")\n"
   ]
  },
  {
   "cell_type": "code",
   "execution_count": null,
   "metadata": {},
   "outputs": [],
   "source": []
  }
 ],
 "metadata": {
  "kernelspec": {
   "display_name": "base",
   "language": "python",
   "name": "python3"
  },
  "language_info": {
   "codemirror_mode": {
    "name": "ipython",
    "version": 3
   },
   "file_extension": ".py",
   "mimetype": "text/x-python",
   "name": "python",
   "nbconvert_exporter": "python",
   "pygments_lexer": "ipython3",
   "version": "3.12.4"
  }
 },
 "nbformat": 4,
 "nbformat_minor": 2
}
